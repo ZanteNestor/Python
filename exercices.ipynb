{
 "cells": [
  {
   "attachments": {},
   "cell_type": "markdown",
   "metadata": {},
   "source": [
    "Exercise 1"
   ]
  },
  {
   "cell_type": "code",
   "execution_count": 1,
   "metadata": {},
   "outputs": [
    {
     "name": "stdout",
     "output_type": "stream",
     "text": [
      "Nestor\n"
     ]
    }
   ],
   "source": [
    "my_name = \"Nestor\"\n",
    "print(my_name)"
   ]
  },
  {
   "attachments": {},
   "cell_type": "markdown",
   "metadata": {},
   "source": [
    "Exercise 2"
   ]
  },
  {
   "cell_type": "code",
   "execution_count": 2,
   "metadata": {},
   "outputs": [
    {
     "name": "stdout",
     "output_type": "stream",
     "text": [
      "38\n"
     ]
    }
   ],
   "source": [
    "age= 38\n",
    "print(age)"
   ]
  },
  {
   "attachments": {},
   "cell_type": "markdown",
   "metadata": {},
   "source": [
    "Exercise 3"
   ]
  },
  {
   "cell_type": "code",
   "execution_count": 4,
   "metadata": {},
   "outputs": [
    {
     "name": "stdout",
     "output_type": "stream",
     "text": [
      "32\n"
     ]
    }
   ],
   "source": [
    "julia_age = 32\n",
    "print(julia_age)"
   ]
  },
  {
   "cell_type": "code",
   "execution_count": 7,
   "metadata": {},
   "outputs": [
    {
     "name": "stdout",
     "output_type": "stream",
     "text": [
      "6\n"
     ]
    }
   ],
   "source": [
    "age_diff = 38 - 32\n",
    "print(age_diff)"
   ]
  },
  {
   "attachments": {},
   "cell_type": "markdown",
   "metadata": {},
   "source": [
    "Exercise 4"
   ]
  },
  {
   "cell_type": "code",
   "execution_count": 3,
   "metadata": {},
   "outputs": [
    {
     "name": "stdout",
     "output_type": "stream",
     "text": [
      "Is greater than 21\n"
     ]
    }
   ],
   "source": [
    "age = 38\n",
    "if (age == 21):\n",
    "    print (\"Is 21\")\n",
    "elif(age > 26):\n",
    "    print(\"Is greater than 21\")\n",
    "else:\n",
    "    print(\"Is lesser than 21\")   "
   ]
  },
  {
   "attachments": {},
   "cell_type": "markdown",
   "metadata": {},
   "source": [
    "Exercise 5"
   ]
  },
  {
   "cell_type": "code",
   "execution_count": 4,
   "metadata": {},
   "outputs": [
    {
     "name": "stdout",
     "output_type": "stream",
     "text": [
      "Julia is younger than you\n"
     ]
    }
   ],
   "source": [
    "age = 38\n",
    "julia_age = 32\n",
    "if(age == julia_age):\n",
    "    print(\"You have the same age\")\n",
    "elif (age > julia_age):\n",
    "    print(\"Julia is younger than you\")\n",
    "else:\n",
    "    print(\"Julia is older than You\")"
   ]
  },
  {
   "attachments": {},
   "cell_type": "markdown",
   "metadata": {},
   "source": [
    "Exerccise 6"
   ]
  },
  {
   "cell_type": "code",
   "execution_count": 20,
   "metadata": {},
   "outputs": [
    {
     "name": "stdout",
     "output_type": "stream",
     "text": [
      "['Nestor', 'Carmen', 'Max', 'Siân', 'Natalie', 'Sergio', 'Tan', 'Arjun', 'Kilian']\n"
     ]
    }
   ],
   "source": [
    "my_list = [\"Nestor\", \"Carmen\", \"Max\", \"Siân\", \"Natalie\", \"Sergio\", \"Tan\", \"Arjun\", \"Kilian\"]\n",
    "print(my_list)\n"
   ]
  },
  {
   "cell_type": "code",
   "execution_count": 21,
   "metadata": {},
   "outputs": [
    {
     "name": "stdout",
     "output_type": "stream",
     "text": [
      "['Arjun', 'Carmen', 'Kilian', 'Max', 'Natalie', 'Nestor', 'Sergio', 'Siân', 'Tan']\n"
     ]
    }
   ],
   "source": [
    "my_list.sort()\n",
    "print(my_list)"
   ]
  },
  {
   "cell_type": "code",
   "execution_count": 26,
   "metadata": {},
   "outputs": [
    {
     "name": "stdout",
     "output_type": "stream",
     "text": [
      "the first name: ['Arjun']\n"
     ]
    }
   ],
   "source": [
    "first = [my_list[0]]\n",
    "print(\"the first name: \"+ str(first))"
   ]
  },
  {
   "cell_type": "code",
   "execution_count": 27,
   "metadata": {},
   "outputs": [
    {
     "name": "stdout",
     "output_type": "stream",
     "text": [
      "the last name: ['Tan']\n"
     ]
    }
   ],
   "source": [
    "last = [my_list[-1]]\n",
    "print(\"the last name: \" + str(last))"
   ]
  },
  {
   "cell_type": "code",
   "execution_count": 28,
   "metadata": {},
   "outputs": [
    {
     "name": "stdout",
     "output_type": "stream",
     "text": [
      "the first name and last name of the list: ['Arjun', 'Tan']\n"
     ]
    }
   ],
   "source": [
    "firstandlast = [my_list[0], my_list[-1]]\n",
    "print(\"the first name and last name of the list: \"+ str(firstandlast))"
   ]
  },
  {
   "cell_type": "code",
   "execution_count": 30,
   "metadata": {},
   "outputs": [
    {
     "name": "stdout",
     "output_type": "stream",
     "text": [
      "['Arjun', 'Carmen', 'Kilian', 'Max', 'Natalie', 'Nestor', 'Sergio', 'Siân', 'Tan']\n"
     ]
    }
   ],
   "source": [
    "a = [my_list]\n",
    "for x in range(len(a)):\n",
    "    print (a[x]),"
   ]
  },
  {
   "attachments": {},
   "cell_type": "markdown",
   "metadata": {},
   "source": [
    "Exercise 7"
   ]
  },
  {
   "cell_type": "code",
   "execution_count": 31,
   "metadata": {},
   "outputs": [
    {
     "name": "stdout",
     "output_type": "stream",
     "text": [
      "[40, 32, 30, 38, 36, 36]\n"
     ]
    }
   ],
   "source": [
    "studentage = [40, 32, 30, 38, 36, 36]\n",
    "print(studentage)"
   ]
  },
  {
   "cell_type": "code",
   "execution_count": 34,
   "metadata": {},
   "outputs": [
    {
     "name": "stdout",
     "output_type": "stream",
     "text": [
      "40\n",
      "32\n",
      "30\n",
      "38\n",
      "36\n",
      "36\n"
     ]
    }
   ],
   "source": [
    "a = studentage\n",
    "for x in range(len(a)):\n",
    "    print (a[x])"
   ]
  },
  {
   "cell_type": "code",
   "execution_count": 26,
   "metadata": {},
   "outputs": [
    {
     "name": "stdout",
     "output_type": "stream",
     "text": [
      "323436384032\n",
      "34\n",
      "36\n",
      "38\n",
      "40\n"
     ]
    },
    {
     "data": {
      "text/plain": [
       "[None, None, None, None, None]"
      ]
     },
     "execution_count": 26,
     "metadata": {},
     "output_type": "execute_result"
    }
   ],
   "source": [
    "start = int(input(\"32:\"))\n",
    "end = int(input(\"40:\"))\n",
    "for num in range (start, end + 1):\n",
    "    if num % 2 == 0:\n",
    "        print(num, end=\"\")\n",
    "start = int(input(\"32:\"))\n",
    "end = int(input(\"40:\"))\n",
    "[print(x)for x in range(start, end + 1, 2)]"
   ]
  },
  {
   "cell_type": "code",
   "execution_count": 14,
   "metadata": {},
   "outputs": [
    {
     "name": "stdout",
     "output_type": "stream",
     "text": [
      "[32]\n",
      "[32]\n",
      "[32, 34]\n",
      "[32, 34]\n",
      "[32, 34, 36]\n",
      "[32, 34, 36]\n",
      "[32, 34, 36, 38]\n",
      "[32, 34, 36, 38]\n",
      "[32, 34, 36, 38, 40]\n"
     ]
    }
   ],
   "source": [
    "a=32; b=40\n",
    "li=[]\n",
    "for i in range (a,b+1):\n",
    "    li.append(i)\n",
    "    even_num = list(filter (lambda x: (x%2==0),li))\n",
    "    print(even_num)"
   ]
  },
  {
   "cell_type": "code",
   "execution_count": 15,
   "metadata": {},
   "outputs": [
    {
     "name": "stdout",
     "output_type": "stream",
     "text": [
      "32 34 36 38 40\n"
     ]
    }
   ],
   "source": [
    "x=[i for i in range (32,40+1) if i%2==0]\n",
    "print(*x)"
   ]
  },
  {
   "attachments": {},
   "cell_type": "markdown",
   "metadata": {},
   "source": [
    "Exercice 8 (using minimum method)"
   ]
  },
  {
   "cell_type": "code",
   "execution_count": 20,
   "metadata": {},
   "outputs": [
    {
     "name": "stdout",
     "output_type": "stream",
     "text": [
      "[13, 26, 31, 47, 92, 13, 18, 72, 101, 3, 19, 27, 10, 56, 57, 92]\n",
      "smallest element is: 3\n"
     ]
    }
   ],
   "source": [
    "list = [13, 26, 31, 47, 92, 13, 18, 72, 101, 3, 19, 27, 10, 56, 57, 92]\n",
    "print(list)\n",
    "print(\"smallest element is:\", min(list))"
   ]
  },
  {
   "attachments": {},
   "cell_type": "markdown",
   "metadata": {},
   "source": [
    "Exercice 9 (using maximun synthaxe)"
   ]
  },
  {
   "cell_type": "code",
   "execution_count": 22,
   "metadata": {},
   "outputs": [
    {
     "name": "stdout",
     "output_type": "stream",
     "text": [
      "[1, 2, 5, 32, 22, 35, 73, 28, 11, 80, 91.97]\n",
      "biggest element is: 91.97\n"
     ]
    }
   ],
   "source": [
    "x = [1, 2, 5, 32, 22, 35, 73, 28, 11, 80, 91.97]\n",
    "print(x)\n",
    "print(\"biggest element is:\", max(x))"
   ]
  },
  {
   "attachments": {},
   "cell_type": "markdown",
   "metadata": {},
   "source": [
    "Exercice 10"
   ]
  },
  {
   "cell_type": "code",
   "execution_count": 2,
   "metadata": {},
   "outputs": [
    {
     "name": "stdout",
     "output_type": "stream",
     "text": [
      "24\n",
      "28\n",
      "18\n",
      "13\n",
      "16\n",
      "17\n",
      "29\n",
      "27\n",
      "44\n",
      "15\n"
     ]
    }
   ],
   "source": [
    "customersbirthyear = [1999, 1995, 2005, 2010, 2007, 2006, 1994, 1996, 1979, 2008]\n",
    "#print(customersbirthyear)\n",
    "for year in customersbirthyear:\n",
    "    age = 2023 - year\n",
    "    print(age)\n"
   ]
  },
  {
   "cell_type": "code",
   "execution_count": 20,
   "metadata": {},
   "outputs": [
    {
     "name": "stdout",
     "output_type": "stream",
     "text": [
      "2023-03-24 10:50:39.867568\n",
      "The year is 2023\n",
      "A person born in 1999 is now 24 years old today\n",
      "A person born in 1995 is now 28 years old today\n",
      "A person born in 2005 is now 18 years old today\n",
      "A person born in 2010 is now 13 years old today\n",
      "A person born in 2007 is now 16 years old today\n",
      "A person born in 2006 is now 17 years old today\n",
      "A person born in 1994 is now 29 years old today\n",
      "A person born in 1996 is now 27 years old today\n",
      "A person born in 1979 is now 44 years old today\n",
      "A person born in 2008 is now 15 years old today\n"
     ]
    }
   ],
   "source": [
    "import datetime\n",
    "now = datetime.datetime.utcnow()\n",
    "yearnow = now.year\n",
    "print(now)\n",
    "print(f'The year is {yearnow}')\n",
    "\n",
    "customersbirthyear = [1999, 1995, 2005, 2010, 2007, 2006, 1994, 1996, 1979, 2008]\n",
    "#print(customersbirthyear)\n",
    "for year in customersbirthyear:\n",
    "    age = yearnow - year\n",
    "    print(f'A person born in {year} is now {age} years old today')\n",
    "    #print('A person born in', year, 'is now {age} years old today')\n",
    "\n",
    "    # f string in python on google.\n",
    "\n"
   ]
  },
  {
   "cell_type": "code",
   "execution_count": null,
   "metadata": {},
   "outputs": [],
   "source": [
    "import datetime\n",
    "import dateutil\n",
    "def birthday(date):\n",
    "    now = datetime.datetime.utcnow()\n",
    "    now = age.date()\n",
    "    age = dateutil.relativedelta.relativedelta(now, date)\n",
    "    age = age.years \n",
    "    return age\n",
    "print(age)"
   ]
  },
  {
   "cell_type": "code",
   "execution_count": 65,
   "metadata": {},
   "outputs": [
    {
     "name": "stdout",
     "output_type": "stream",
     "text": [
      "23 years\n"
     ]
    }
   ],
   "source": [
    "from datetime import date\n",
    "def Customersage(customersbirthdate):\n",
    "    today = date.today()\n",
    "    age = today.year - customersbirthdate.year - ((today.month, today.day) < (customersbirthdate.month, customersbirthdate.day))\n",
    "    return age \n",
    "print(Customersage(date(1999, 12, 31)),\"years\")"
   ]
  },
  {
   "cell_type": "code",
   "execution_count": 75,
   "metadata": {},
   "outputs": [
    {
     "name": "stdout",
     "output_type": "stream",
     "text": [
      "27 years\n"
     ]
    }
   ],
   "source": [
    "from datetime import date\n",
    "def Customersage(customersbirthdate):\n",
    "    today = date.today()\n",
    "    age = today.year - customersbirthdate.year - ((today.month, today.day) < (customersbirthdate.month, customersbirthdate.day))\n",
    "    return age \n",
    "print(Customersage(date(1995, 12, 31)),\"years\")"
   ]
  },
  {
   "cell_type": "code",
   "execution_count": 76,
   "metadata": {},
   "outputs": [
    {
     "name": "stdout",
     "output_type": "stream",
     "text": [
      "17 years\n"
     ]
    }
   ],
   "source": [
    "from datetime import date\n",
    "def Customersage(customersbirthdate):\n",
    "    today = date.today()\n",
    "    age = today.year - customersbirthdate.year - ((today.month, today.day) < (customersbirthdate.month, customersbirthdate.day))\n",
    "    return age \n",
    "print(Customersage(date(2005, 12, 31)),\"years\")"
   ]
  },
  {
   "cell_type": "code",
   "execution_count": 77,
   "metadata": {},
   "outputs": [
    {
     "name": "stdout",
     "output_type": "stream",
     "text": [
      "12 years\n"
     ]
    }
   ],
   "source": [
    "from datetime import date\n",
    "def Customersage(customersbirthdate):\n",
    "    today = date.today()\n",
    "    age = today.year - customersbirthdate.year - ((today.month, today.day) < (customersbirthdate.month, customersbirthdate.day))\n",
    "    return age \n",
    "print(Customersage(date(2010, 12, 31)),\"years\")"
   ]
  },
  {
   "cell_type": "code",
   "execution_count": 78,
   "metadata": {},
   "outputs": [
    {
     "name": "stdout",
     "output_type": "stream",
     "text": [
      "15 years\n"
     ]
    }
   ],
   "source": [
    "from datetime import date\n",
    "def Customersage(customersbirthdate):\n",
    "    today = date.today()\n",
    "    age = today.year - customersbirthdate.year - ((today.month, today.day) < (customersbirthdate.month, customersbirthdate.day))\n",
    "    return age \n",
    "print(Customersage(date(2007, 12, 31)),\"years\")"
   ]
  },
  {
   "cell_type": "code",
   "execution_count": 79,
   "metadata": {},
   "outputs": [
    {
     "name": "stdout",
     "output_type": "stream",
     "text": [
      "16 years\n"
     ]
    }
   ],
   "source": [
    "from datetime import date\n",
    "def Customersage(customersbirthdate):\n",
    "    today = date.today()\n",
    "    age = today.year - customersbirthdate.year - ((today.month, today.day) < (customersbirthdate.month, customersbirthdate.day))\n",
    "    return age \n",
    "print(Customersage(date(2006, 12, 31)),\"years\")"
   ]
  },
  {
   "cell_type": "code",
   "execution_count": 80,
   "metadata": {},
   "outputs": [
    {
     "name": "stdout",
     "output_type": "stream",
     "text": [
      "28 years\n"
     ]
    }
   ],
   "source": [
    "from datetime import date\n",
    "def Customersage(customersbirthdate):\n",
    "    today = date.today()\n",
    "    age = today.year - customersbirthdate.year - ((today.month, today.day) < (customersbirthdate.month, customersbirthdate.day))\n",
    "    return age \n",
    "print(Customersage(date(1994, 12, 31)),\"years\")"
   ]
  },
  {
   "cell_type": "code",
   "execution_count": 81,
   "metadata": {},
   "outputs": [
    {
     "name": "stdout",
     "output_type": "stream",
     "text": [
      "26 years\n"
     ]
    }
   ],
   "source": [
    "from datetime import date\n",
    "def Customersage(customersbirthdate):\n",
    "    today = date.today()\n",
    "    age = today.year - customersbirthdate.year - ((today.month, today.day) < (customersbirthdate.month, customersbirthdate.day))\n",
    "    return age \n",
    "print(Customersage(date(1996, 12, 31)),\"years\")"
   ]
  },
  {
   "cell_type": "code",
   "execution_count": 82,
   "metadata": {},
   "outputs": [
    {
     "name": "stdout",
     "output_type": "stream",
     "text": [
      "43 years\n"
     ]
    }
   ],
   "source": [
    "from datetime import date\n",
    "def Customersage(customersbirthdate):\n",
    "    today = date.today()\n",
    "    age = today.year - customersbirthdate.year - ((today.month, today.day) < (customersbirthdate.month, customersbirthdate.day))\n",
    "    return age \n",
    "print(Customersage(date(1979, 12, 31)),\"years\")"
   ]
  },
  {
   "cell_type": "code",
   "execution_count": 83,
   "metadata": {},
   "outputs": [
    {
     "name": "stdout",
     "output_type": "stream",
     "text": [
      "14 years\n"
     ]
    }
   ],
   "source": [
    "from datetime import date\n",
    "def Customersage(customersbirthdate):\n",
    "    today = date.today()\n",
    "    age = today.year - customersbirthdate.year - ((today.month, today.day) < (customersbirthdate.month, customersbirthdate.day))\n",
    "    return age \n",
    "print(Customersage(date(2008, 12, 31)),\"years\")"
   ]
  },
  {
   "cell_type": "code",
   "execution_count": 91,
   "metadata": {},
   "outputs": [
    {
     "name": "stdout",
     "output_type": "stream",
     "text": [
      "23\n",
      "27\n",
      "17\n",
      "12\n",
      "15\n",
      "16\n",
      "28\n",
      "26\n",
      "43\n",
      "14\n",
      "14\n"
     ]
    }
   ],
   "source": [
    "ageofcustomers = [23, 27, 17, 12, 15, 16, 28, 26, 43, 14, 14]\n",
    "for x in ageofcustomers:\n",
    "    print(x)"
   ]
  },
  {
   "attachments": {},
   "cell_type": "markdown",
   "metadata": {},
   "source": [
    "Exercise 11"
   ]
  },
  {
   "cell_type": "code",
   "execution_count": 28,
   "metadata": {},
   "outputs": [
    {
     "name": "stdout",
     "output_type": "stream",
     "text": [
      "Bob is 24 years old.\n",
      "Jack is 28 years old.\n",
      "Lisa is 18 years old.\n",
      "Maria is 13 years old.\n",
      "Ben is 16 years old.\n",
      "Emma is 17 years old.\n",
      "Oscar is 29 years old.\n",
      "Amy is 27 years old.\n",
      "Paul is 44 years old.\n",
      "Etta is 15 years old.\n"
     ]
    }
   ],
   "source": [
    "customer_list = [\n",
    "    {\"name\":\"Bob\", \"age\": 1999}, \n",
    "    {\"name\": \"Jack\", \"age\": 1995}, \n",
    "    {\"name\": \"Lisa\", \"age\": 2005}, \n",
    "    {\"name\": \"Maria\", \"age\": 2010}, \n",
    "    {\"name\": \"Ben\", \"age\": 2007}, \n",
    "    {\"name\": \"Emma\", \"age\": 2006}, \n",
    "    {\"name\": \"Oscar\", \"age\": 1994}, \n",
    "    {\"name\": \"Amy\", \"age\": 1996}, \n",
    "    {\"name\": \"Paul\", \"age\": 1979}, \n",
    "    {\"name\": \"Etta\", \"age\": 2008}\n",
    "    ]\n",
    "for x in customer_list:\n",
    "    #print(x)\n",
    "    year = 2023\n",
    "for customer in customer_list:\n",
    "    #print(customer['name'], (year - customer['age']))\n",
    "    print(customer['name'] + ' is ' + str(year - customer['age']) + ' years old.')"
   ]
  },
  {
   "attachments": {},
   "cell_type": "markdown",
   "metadata": {},
   "source": [
    "exercise 12"
   ]
  },
  {
   "cell_type": "code",
   "execution_count": 13,
   "metadata": {},
   "outputs": [
    {
     "name": "stdout",
     "output_type": "stream",
     "text": [
      "9\n"
     ]
    }
   ],
   "source": [
    "ages = [20, 24, 14, 9, 12, 13, 25, 23, 40, 11]\n",
    "\n",
    "print(min(ages))"
   ]
  },
  {
   "cell_type": "code",
   "execution_count": 15,
   "metadata": {},
   "outputs": [
    {
     "name": "stdout",
     "output_type": "stream",
     "text": [
      "40\n"
     ]
    }
   ],
   "source": [
    "ages = [20, 24, 14, 9, 12, 13, 25, 23, 40, 11]\n",
    "print(max(ages))"
   ]
  },
  {
   "cell_type": "code",
   "execution_count": 19,
   "metadata": {},
   "outputs": [
    {
     "name": "stdout",
     "output_type": "stream",
     "text": [
      "[20, 24, 14, 12, 13, 25, 23, 40, 11]\n"
     ]
    }
   ],
   "source": [
    "ages = [20, 24, 14, 9, 12, 13, 25, 23, 40, 11]\n",
    "ages.remove(9)\n",
    "print(ages)"
   ]
  },
  {
   "cell_type": "code",
   "execution_count": 20,
   "metadata": {},
   "outputs": [
    {
     "name": "stdout",
     "output_type": "stream",
     "text": [
      "[20, 24, 14, 9, 12, 13, 25, 23, 11]\n"
     ]
    }
   ],
   "source": [
    "ages = [20, 24, 14, 9, 12, 13, 25, 23, 40, 11]\n",
    "ages.remove(40)\n",
    "print(ages)"
   ]
  },
  {
   "cell_type": "code",
   "execution_count": 22,
   "metadata": {},
   "outputs": [
    {
     "name": "stdout",
     "output_type": "stream",
     "text": [
      "[20, 24, 14, 12, 13, 25, 23, 11]\n"
     ]
    }
   ],
   "source": [
    "ages = [20, 24, 14, 9, 12, 13, 25, 23, 40, 11]\n",
    "ages.remove(min(ages))\n",
    "ages.remove(max(ages))\n",
    "print(ages)"
   ]
  },
  {
   "cell_type": "code",
   "execution_count": 23,
   "metadata": {},
   "outputs": [
    {
     "name": "stdout",
     "output_type": "stream",
     "text": [
      "[20, 24, 14, 12, 13, 25, 23, 11]\n"
     ]
    }
   ],
   "source": [
    "ages = [20, 24, 14, 9, 12, 13, 25, 23, 40, 11]\n",
    "ages.remove(9)\n",
    "ages.remove(40)\n",
    "print(ages)"
   ]
  },
  {
   "attachments": {},
   "cell_type": "markdown",
   "metadata": {},
   "source": [
    "Exercise 13 (concatenation method)"
   ]
  },
  {
   "cell_type": "code",
   "execution_count": 42,
   "metadata": {},
   "outputs": [
    {
     "name": "stdout",
     "output_type": "stream",
     "text": [
      "[15, 13, 16, 18, 19, 10, 12, 7, 13, 15, 20, 19, 18, 10, 16]\n",
      "[15, 13, 16, 18, 19, 10, 12, 7, 20]\n"
     ]
    }
   ],
   "source": [
    "berlin = [15, 13, 16, 18, 19, 10, 12 ]\n",
    "munich = [7, 13, 15, 20, 19, 18, 10, 16]\n",
    "res = berlin + munich\n",
    "print(res)\n",
    "list3 = []\n",
    "for res in res:\n",
    "    if res not in list3:\n",
    "        list3.append(res)\n",
    "print(list3)\n",
    "\n",
    "berlin = [15, 13, 16, 18, 19, 10, 12 ]\n",
    "munich = [7, 13, 15, 20, 19, 18, 10, 16]\n",
    "set[(berlin)]\n",
    "set [(munich)]\n",
    "listdd = set[(berlin, munich)]\n",
    "\n"
   ]
  },
  {
   "attachments": {},
   "cell_type": "markdown",
   "metadata": {},
   "source": [
    "Exercise 14"
   ]
  },
  {
   "cell_type": "code",
   "execution_count": 46,
   "metadata": {},
   "outputs": [
    {
     "name": "stdout",
     "output_type": "stream",
     "text": [
      "[15, 13, 16, 18, 19, 10]\n"
     ]
    }
   ],
   "source": [
    "listeages= [15,13,16,18,19,15,10]\n",
    "listnd = []\n",
    "for listeages in listeages:\n",
    "    if listeages not in listnd:\n",
    "        listnd.append(listeages)\n",
    "print(listnd)"
   ]
  },
  {
   "attachments": {},
   "cell_type": "markdown",
   "metadata": {},
   "source": [
    "exercise 15"
   ]
  },
  {
   "cell_type": "code",
   "execution_count": 23,
   "metadata": {},
   "outputs": [
    {
     "name": "stdout",
     "output_type": "stream",
     "text": [
      "welcomeEvelynhave a nice day!\n",
      "welcomeJosthave a nice day!\n"
     ]
    }
   ],
   "source": [
    "def welcome(mama):\n",
    "    print(\"welcome\"+ \"\" +\"\" +mama+ \"have a nice day!\")\n",
    "mama = \"Evelyn\" \n",
    "welcome (mama)\n",
    "mama = \"Jost\"\n",
    "welcome(mama)"
   ]
  },
  {
   "cell_type": "code",
   "execution_count": 24,
   "metadata": {},
   "outputs": [
    {
     "name": "stdout",
     "output_type": "stream",
     "text": [
      "welcome,   Evelyn have a nice day!\n",
      "welcome,   Jost have a nice day!\n"
     ]
    }
   ],
   "source": [
    "def welcome(mama):\n",
    "    print(\"welcome,\"+\" \"+ \" \" +\" \" +mama+ \" \" \"have a nice day!\")\n",
    "mama = \"Evelyn\" \n",
    "welcome (mama)\n",
    "mama = \"Jost\"\n",
    "welcome(mama)\n",
    "\n"
   ]
  },
  {
   "attachments": {},
   "cell_type": "markdown",
   "metadata": {},
   "source": [
    "Exercise 16"
   ]
  },
  {
   "cell_type": "code",
   "execution_count": 63,
   "metadata": {},
   "outputs": [
    {
     "name": "stdout",
     "output_type": "stream",
     "text": [
      "lenght of the input is: 5\n"
     ]
    }
   ],
   "source": [
    "get_length = ('Hello') \n",
    "str = input(\"Hello\")\n",
    "counter = 0 \n",
    "for s in str:\n",
    "    counter = counter+1 \n",
    "print(\"lenght of the input is:\", counter)\n"
   ]
  },
  {
   "cell_type": "code",
   "execution_count": 64,
   "metadata": {},
   "outputs": [
    {
     "name": "stdout",
     "output_type": "stream",
     "text": [
      "lenght of the input is: 2\n"
     ]
    }
   ],
   "source": [
    "get_length = ('Hi') \n",
    "str = input(\"Hi\")\n",
    "counter = 0 \n",
    "for s in str:\n",
    "    counter = counter+1 \n",
    "print(\"lenght of the input is:\", counter)"
   ]
  },
  {
   "attachments": {},
   "cell_type": "markdown",
   "metadata": {},
   "source": [
    "Exercise 17"
   ]
  },
  {
   "cell_type": "code",
   "execution_count": 68,
   "metadata": {},
   "outputs": [
    {
     "name": "stdout",
     "output_type": "stream",
     "text": [
      "yes\n"
     ]
    }
   ],
   "source": [
    "num = 6\n",
    "num = int(input(num))\n",
    "if (num % 2) == 0:\n",
    "    print(\"yes\")\n",
    "else:\n",
    "    print(\"No\")\n"
   ]
  },
  {
   "cell_type": "code",
   "execution_count": 69,
   "metadata": {},
   "outputs": [
    {
     "name": "stdout",
     "output_type": "stream",
     "text": [
      "No\n"
     ]
    }
   ],
   "source": [
    "num = 6\n",
    "num = int(input(num))\n",
    "if (num % 2) == 0:\n",
    "    print(\"yes\")\n",
    "else:\n",
    "    print(\"No\")"
   ]
  },
  {
   "attachments": {},
   "cell_type": "markdown",
   "metadata": {},
   "source": [
    "Exercise 18"
   ]
  },
  {
   "attachments": {},
   "cell_type": "markdown",
   "metadata": {},
   "source": [
    "Exer.11"
   ]
  },
  {
   "attachments": {},
   "cell_type": "markdown",
   "metadata": {},
   "source": [
    "Exer.12"
   ]
  },
  {
   "attachments": {},
   "cell_type": "markdown",
   "metadata": {},
   "source": [
    "Exer.13"
   ]
  },
  {
   "attachments": {},
   "cell_type": "markdown",
   "metadata": {},
   "source": [
    "Exer.14"
   ]
  },
  {
   "attachments": {},
   "cell_type": "markdown",
   "metadata": {},
   "source": [
    "Exer.15"
   ]
  },
  {
   "attachments": {},
   "cell_type": "markdown",
   "metadata": {},
   "source": [
    "Exercise 19"
   ]
  },
  {
   "cell_type": "code",
   "execution_count": 135,
   "metadata": {},
   "outputs": [
    {
     "name": "stdout",
     "output_type": "stream",
     "text": [
      " is in the range\n"
     ]
    }
   ],
   "source": [
    "\n",
    "def List_input(n):\n",
    "    if n in range (4,11):\n",
    "        print(\" is in the range\")\n",
    "    else: \n",
    "        print(\"the number is outside the given range.\")\n",
    "List_input(7)"
   ]
  },
  {
   "cell_type": "code",
   "execution_count": 136,
   "metadata": {},
   "outputs": [
    {
     "name": "stdout",
     "output_type": "stream",
     "text": [
      "he number is outside the given range.\n"
     ]
    }
   ],
   "source": [
    "def List_input(n):\n",
    "    if n in range (1,6):\n",
    "        print(\"is in the range\")\n",
    "    else: \n",
    "        print(\"he number is outside the given range.\")\n",
    "List_input(12)"
   ]
  },
  {
   "cell_type": "code",
   "execution_count": 134,
   "metadata": {},
   "outputs": [
    {
     "name": "stdout",
     "output_type": "stream",
     "text": [
      "false\n"
     ]
    }
   ],
   "source": [
    "def List_input(n):\n",
    "    if n in range (1,6):\n",
    "        print(\"true\")\n",
    "    else: \n",
    "        print(\"false\")\n",
    "List_input(7)"
   ]
  },
  {
   "cell_type": "code",
   "execution_count": 137,
   "metadata": {},
   "outputs": [
    {
     "name": "stdout",
     "output_type": "stream",
     "text": [
      "true\n"
     ]
    }
   ],
   "source": [
    "def List_input(n):\n",
    "    if n in range (1,6):\n",
    "        print(\"true\")\n",
    "    else: \n",
    "        print(\"false\")\n",
    "List_input(2)"
   ]
  },
  {
   "cell_type": "code",
   "execution_count": 160,
   "metadata": {},
   "outputs": [
    {
     "name": "stdout",
     "output_type": "stream",
     "text": [
      "['bmw', 'mercedes', 'opel', 'porsche', 'audi']\n",
      "['volkswagen', 'bmw', 'mercedes', 'opel', 'porsche', 'audi']\n",
      "['volkswagen', 'mercedes', 'opel', 'porsche', 'audi']\n",
      "['volkswagen', 'mercedes', 'opel', 'porsche']\n",
      "audi\n"
     ]
    }
   ],
   "source": [
    "Cars = []\n",
    "Cars.append(\"bmw\")\n",
    "Cars.append(\"mercedes\")\n",
    "Cars.append(\"opel\")\n",
    "Cars.append(\"porsche\")\n",
    "Cars.append(\"audi\")\n",
    "print(Cars)\n",
    "\n",
    "Cars.insert(0,\"volkswagen\")\n",
    "print(Cars)\n",
    "\n",
    "del Cars[1]\n",
    "print(Cars)\n",
    "\n",
    "Cars_minus = Cars.pop()\n",
    "print(Cars)\n",
    "print(Cars_minus)\n"
   ]
  }
 ],
 "metadata": {
  "kernelspec": {
   "display_name": "Python 3",
   "language": "python",
   "name": "python3"
  },
  "language_info": {
   "codemirror_mode": {
    "name": "ipython",
    "version": 3
   },
   "file_extension": ".py",
   "mimetype": "text/x-python",
   "name": "python",
   "nbconvert_exporter": "python",
   "pygments_lexer": "ipython3",
   "version": "3.11.2"
  },
  "orig_nbformat": 4
 },
 "nbformat": 4,
 "nbformat_minor": 2
}
